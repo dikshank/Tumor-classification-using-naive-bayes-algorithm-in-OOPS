{
 "cells": [
  {
   "cell_type": "code",
   "execution_count": 9,
   "metadata": {},
   "outputs": [],
   "source": [
    "import pandas as pd\n",
    "\n",
    "from Gaussian_Naive_Bayes import GaussianNB"
   ]
  },
  {
   "cell_type": "code",
   "execution_count": 10,
   "metadata": {},
   "outputs": [],
   "source": [
    "data = pd.read_csv(\"data.csv\")"
   ]
  },
  {
   "cell_type": "code",
   "execution_count": 3,
   "metadata": {},
   "outputs": [],
   "source": [
    "data.drop([data.columns[0],data.columns[32]],axis=1,inplace=True)"
   ]
  },
  {
   "cell_type": "code",
   "execution_count": 4,
   "metadata": {},
   "outputs": [],
   "source": [
    "clf = GaussianNB(features=data.iloc[:,1:],labels=data.iloc[:,0],train_cv_test_split=(0.7,0.2,0.1),apply_pca=True,n_principal_components=11)"
   ]
  },
  {
   "cell_type": "code",
   "execution_count": 5,
   "metadata": {},
   "outputs": [
    {
     "data": {
      "text/plain": [
       "array([[-1.16014257e+03, -2.93917544e+02,  4.85783976e+01, ...,\n",
       "        -7.45463100e-01,  5.89359489e-01,  3.07804338e-01],\n",
       "       [-1.26912244e+03,  1.56301818e+01, -3.53945342e+01, ...,\n",
       "         4.85827948e-01, -8.40347188e-02, -8.06420067e-02],\n",
       "       [-9.95793889e+02,  3.91567432e+01, -1.70975298e+00, ...,\n",
       "         1.73874273e-01, -1.86993508e-01, -2.79173510e-01],\n",
       "       ...,\n",
       "       [-3.14501756e+02,  4.75535252e+01, -1.04424072e+01, ...,\n",
       "         9.73984733e-02, -1.44667285e-01,  1.09147459e-01],\n",
       "       [-1.12485812e+03,  3.41292250e+01, -1.97420874e+01, ...,\n",
       "        -3.85030186e-01,  6.15467490e-01, -3.07166111e-01],\n",
       "       [ 7.71527622e+02, -8.86431064e+01,  2.38890319e+01, ...,\n",
       "         4.23451051e-01, -3.01438975e-01, -1.33352979e-01]])"
      ]
     },
     "execution_count": 5,
     "metadata": {},
     "output_type": "execute_result"
    }
   ],
   "source": [
    "clf.X_new"
   ]
  },
  {
   "cell_type": "code",
   "execution_count": 6,
   "metadata": {},
   "outputs": [],
   "source": [
    "train,cv,test = clf.data_splitting()"
   ]
  },
  {
   "cell_type": "code",
   "execution_count": 7,
   "metadata": {},
   "outputs": [],
   "source": [
    "clf.fit(train)"
   ]
  },
  {
   "cell_type": "code",
   "execution_count": 8,
   "metadata": {},
   "outputs": [
    {
     "name": "stdout",
     "output_type": "stream",
     "text": [
      "              precision    recall  f1-score   support\n",
      "\n",
      "           M       0.99      0.94      0.96       100\n",
      "           B       0.67      0.92      0.77        13\n",
      "\n",
      "    accuracy                           0.94       113\n",
      "   macro avg       0.83      0.93      0.87       113\n",
      "weighted avg       0.95      0.94      0.94       113\n",
      "\n"
     ]
    }
   ],
   "source": [
    "clf.evaluate(cv)"
   ]
  },
  {
   "cell_type": "code",
   "execution_count": 16,
   "metadata": {},
   "outputs": [
    {
     "name": "stdout",
     "output_type": "stream",
     "text": [
      "              precision    recall  f1-score   support\n",
      "\n",
      "           M       1.00      0.95      0.97        58\n",
      "           B       0.00      0.00      0.00         0\n",
      "\n",
      "    accuracy                           0.95        58\n",
      "   macro avg       0.50      0.47      0.49        58\n",
      "weighted avg       1.00      0.95      0.97        58\n",
      "\n"
     ]
    },
    {
     "name": "stderr",
     "output_type": "stream",
     "text": [
      "C:\\ProgramData\\Anaconda3\\lib\\site-packages\\sklearn\\metrics\\classification.py:1439: UndefinedMetricWarning: Recall and F-score are ill-defined and being set to 0.0 in labels with no true samples.\n",
      "  'recall', 'true', average, warn_for)\n"
     ]
    }
   ],
   "source": [
    "clf.evaluate(test)"
   ]
  },
  {
   "cell_type": "code",
   "execution_count": null,
   "metadata": {},
   "outputs": [],
   "source": []
  }
 ],
 "metadata": {
  "kernelspec": {
   "display_name": "Python 3",
   "language": "python",
   "name": "python3"
  },
  "language_info": {
   "codemirror_mode": {
    "name": "ipython",
    "version": 3
   },
   "file_extension": ".py",
   "mimetype": "text/x-python",
   "name": "python",
   "nbconvert_exporter": "python",
   "pygments_lexer": "ipython3",
   "version": "3.7.4"
  },
  "latex_envs": {
   "LaTeX_envs_menu_present": true,
   "autoclose": false,
   "autocomplete": true,
   "bibliofile": "biblio.bib",
   "cite_by": "apalike",
   "current_citInitial": 1,
   "eqLabelWithNumbers": true,
   "eqNumInitial": 1,
   "hotkeys": {
    "equation": "Ctrl-E",
    "itemize": "Ctrl-I"
   },
   "labels_anchors": false,
   "latex_user_defs": false,
   "report_style_numbering": false,
   "user_envs_cfg": false
  },
  "toc": {
   "base_numbering": 1,
   "nav_menu": {},
   "number_sections": true,
   "sideBar": true,
   "skip_h1_title": false,
   "title_cell": "Table of Contents",
   "title_sidebar": "Contents",
   "toc_cell": false,
   "toc_position": {},
   "toc_section_display": true,
   "toc_window_display": false
  }
 },
 "nbformat": 4,
 "nbformat_minor": 2
}
